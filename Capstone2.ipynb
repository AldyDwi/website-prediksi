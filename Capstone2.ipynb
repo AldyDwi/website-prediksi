{
  "cells": [
    {
      "cell_type": "code",
      "execution_count": 2,
      "metadata": {
        "colab": {
          "base_uri": "https://localhost:8080/"
        },
        "id": "GMPQLX5rUF_q",
        "outputId": "7410a92b-10e2-442d-e2e9-f4a9b65601a7"
      },
      "outputs": [
        {
          "name": "stdout",
          "output_type": "stream",
          "text": [
            "  ID Pelanggan  Durasi Langganan (bulan)  Jumlah Panggilan  \\\n",
            "0         P001                        13                83   \n",
            "1         P002                        32                68   \n",
            "2         P003                         2                42   \n",
            "3         P004                        23                17   \n",
            "4         P005                        18                21   \n",
            "5         P006                         7                24   \n",
            "6         P007                        32                 6   \n",
            "7         P008                        23                10   \n",
            "8         P009                        27                34   \n",
            "9         P010                        24                28   \n",
            "\n",
            "   Penggunaan Data (GB)  Tagihan Rata-rata Promosi Terakhir  Churn  \n",
            "0                     4              30000            TIDAK     YA  \n",
            "1                    10             100000            TIDAK  TIDAK  \n",
            "2                    21             180000            TIDAK  TIDAK  \n",
            "3                     5              60000            TIDAK     YA  \n",
            "4                    10              90000            TIDAK     YA  \n",
            "5                    24             210000               YA     YA  \n",
            "6                    27             180000            TIDAK  TIDAK  \n",
            "7                     4              60000            TIDAK  TIDAK  \n",
            "8                    10             150000            TIDAK     YA  \n",
            "9                    18             100000            TIDAK     YA   \n",
            "\n",
            "<class 'pandas.core.frame.DataFrame'>\n",
            "RangeIndex: 100 entries, 0 to 99\n",
            "Data columns (total 7 columns):\n",
            " #   Column                    Non-Null Count  Dtype \n",
            "---  ------                    --------------  ----- \n",
            " 0   ID Pelanggan              100 non-null    object\n",
            " 1   Durasi Langganan (bulan)  100 non-null    int64 \n",
            " 2   Jumlah Panggilan          100 non-null    int64 \n",
            " 3   Penggunaan Data (GB)      100 non-null    int64 \n",
            " 4   Tagihan Rata-rata         100 non-null    int64 \n",
            " 5   Promosi Terakhir          100 non-null    object\n",
            " 6   Churn                     100 non-null    object\n",
            "dtypes: int64(4), object(3)\n",
            "memory usage: 5.6+ KB\n",
            "None \n",
            "\n"
          ]
        }
      ],
      "source": [
        "import numpy as np\n",
        "import pandas as pd\n",
        "import seaborn as sns\n",
        "import matplotlib.pyplot as plt\n",
        "from sklearn.model_selection import train_test_split\n",
        "from sklearn.model_selection import LeaveOneOut\n",
        "import os\n",
        "\n",
        "df = pd.read_csv('Telkomsel_Data.csv')\n",
        "print(df.head(10), \"\\n\")\n",
        "print(df.info(), \"\\n\")"
      ]
    },
    {
      "cell_type": "code",
      "execution_count": 3,
      "metadata": {
        "colab": {
          "base_uri": "https://localhost:8080/"
        },
        "id": "8wjdGDd_UKrl",
        "outputId": "9c880779-0cca-4f18-b91b-127397b7fef6"
      },
      "outputs": [
        {
          "name": "stdout",
          "output_type": "stream",
          "text": [
            "ID Pelanggan                0\n",
            "Durasi Langganan (bulan)    0\n",
            "Jumlah Panggilan            0\n",
            "Penggunaan Data (GB)        0\n",
            "Tagihan Rata-rata           0\n",
            "Promosi Terakhir            0\n",
            "Churn                       0\n",
            "dtype: int64 \n",
            "\n",
            "   Durasi Langganan (bulan)  Jumlah Panggilan  Penggunaan Data (GB)  \\\n",
            "0                        13                83                     4   \n",
            "1                        32                68                    10   \n",
            "2                         2                42                    21   \n",
            "3                        23                17                     5   \n",
            "4                        18                21                    10   \n",
            "\n",
            "   Tagihan Rata-rata  Promosi Terakhir  Churn  \n",
            "0              30000                 0      1  \n",
            "1             100000                 0      0  \n",
            "2             180000                 0      0  \n",
            "3              60000                 0      1  \n",
            "4              90000                 0      1  \n"
          ]
        },
        {
          "name": "stderr",
          "output_type": "stream",
          "text": [
            "C:\\Users\\ACER\\AppData\\Local\\Temp\\ipykernel_2680\\3169057567.py:11: FutureWarning: Downcasting behavior in `replace` is deprecated and will be removed in a future version. To retain the old behavior, explicitly call `result.infer_objects(copy=False)`. To opt-in to the future behavior, set `pd.set_option('future.no_silent_downcasting', True)`\n",
            "  Promosi = df.replace(to_replace={'Promosi Terakhir': {'YA': 1, 'TIDAK': 0}})\n",
            "C:\\Users\\ACER\\AppData\\Local\\Temp\\ipykernel_2680\\3169057567.py:12: FutureWarning: Downcasting behavior in `replace` is deprecated and will be removed in a future version. To retain the old behavior, explicitly call `result.infer_objects(copy=False)`. To opt-in to the future behavior, set `pd.set_option('future.no_silent_downcasting', True)`\n",
            "  Churn = Promosi.replace(to_replace={'Churn': {'YA': 1, 'TIDAK': 0}})\n"
          ]
        }
      ],
      "source": [
        "# Menghitung missing values\n",
        "print(df.isnull().sum(), \"\\n\")\n",
        "\n",
        "# Menghapus data duplikat\n",
        "df.drop_duplicates(inplace=True)\n",
        "\n",
        "# Menghapus kolom 'ID Pelanggan'\n",
        "df.drop(columns=['ID Pelanggan'], inplace=True)\n",
        "\n",
        "# mengganti isi kolom Promosi Terakhir dan Churn menjadi 1 dan 0\n",
        "Promosi = df.replace(to_replace={'Promosi Terakhir': {'YA': 1, 'TIDAK': 0}})\n",
        "Churn = Promosi.replace(to_replace={'Churn': {'YA': 1, 'TIDAK': 0}})\n",
        "data2 = Churn\n",
        "print(data2.head())"
      ]
    },
    {
      "cell_type": "code",
      "execution_count": 4,
      "metadata": {
        "colab": {
          "base_uri": "https://localhost:8080/",
          "height": 696
        },
        "id": "A8T3iARcUMo1",
        "outputId": "c27584c7-db95-4b4e-80aa-3ebc23335aa3"
      },
      "outputs": [
        {
          "data": {
            "image/png": "[encoded data removed]",
            "text/plain": [
              "<Figure size 1200x800 with 4 Axes>"
            ]
          },
          "metadata": {},
          "output_type": "display_data"
        }
      ],
      "source": [
        "# mencari outlier\n",
        "fig, axes = plt.subplots(2, 2, figsize=(12, 8))\n",
        "sns.boxplot(x=\"Durasi Langganan (bulan)\", data=data2, ax=axes[0, 0])\n",
        "sns.boxplot(x=\"Jumlah Panggilan\", data=data2, ax=axes[0, 1])\n",
        "sns.boxplot(x=\"Penggunaan Data (GB)\", data=data2, ax=axes[1, 0])\n",
        "sns.boxplot(x=\"Tagihan Rata-rata\", data=data2, ax=axes[1, 1])\n",
        "plt.show()"
      ]
    },
    {
      "cell_type": "code",
      "execution_count": 5,
      "metadata": {
        "colab": {
          "base_uri": "https://localhost:8080/"
        },
        "id": "kgVHo-YfUOjH",
        "outputId": "7d2a0b32-b2a1-4c0e-f15f-85dfb068fe02"
      },
      "outputs": [
        {
          "name": "stdout",
          "output_type": "stream",
          "text": [
            "Durasi Langganan (bulan)\n",
            "Q1:  9.0  Q3:  28.0\n",
            "Selisih:  19.0\n",
            "batas bawah:  -19.5\n",
            "batas atas:  56.5 \n",
            "\n",
            "Jumlah Panggilan\n",
            "Q1:  27.5  Q3:  80.25\n",
            "Selisih:  52.75\n",
            "batas bawah:  -51.625\n",
            "batas atas:  159.375 \n",
            "\n",
            "Penggunaan Data (GB)\n",
            "Q1:  4.0  Q3:  15.0\n",
            "Selisih:  11.0\n",
            "batas bawah:  -12.5\n",
            "batas atas:  31.5 \n",
            "\n",
            "Tagihan rata-rata\n",
            "Q1:  60000.0  Q3:  152500.0\n",
            "Selisih:  92500.0\n",
            "batas bawah:  -78750.0\n",
            "batas atas:  291250.0 \n",
            "\n"
          ]
        }
      ],
      "source": [
        "# menghitung outlier pada Durasi Langganan (bulan)\n",
        "Q1, Q3 = np.percentile(data2[\"Durasi Langganan (bulan)\"], [25, 75])\n",
        "selisih = Q3 - Q1\n",
        "# menghitung batas bawah dan atas\n",
        "bw1 = Q1 - 1.5 * selisih\n",
        "ba1 = Q3 + 1.5 * selisih\n",
        "print(\"Durasi Langganan (bulan)\")\n",
        "print(\"Q1: \", Q1, \" Q3: \", Q3)\n",
        "print(\"Selisih: \", selisih)\n",
        "print(\"batas bawah: \", bw1)\n",
        "print(\"batas atas: \", ba1, \"\\n\")\n",
        "\n",
        "# menghitung outlier pada Jumlah Panggilan\n",
        "Q1, Q3 = np.percentile(data2[\"Jumlah Panggilan\"], [25, 75])\n",
        "selisih = Q3 - Q1\n",
        "# menghitung batas bawah dan atas\n",
        "bw2 = Q1 - 1.5 * selisih\n",
        "ba2 = Q3 + 1.5 * selisih\n",
        "print(\"Jumlah Panggilan\")\n",
        "print(\"Q1: \", Q1, \" Q3: \", Q3)\n",
        "print(\"Selisih: \", selisih)\n",
        "print(\"batas bawah: \", bw2)\n",
        "print(\"batas atas: \", ba2, \"\\n\")\n",
        "\n",
        "# menghitung outlier pada Penggunaan Data (GB)\n",
        "Q1, Q3 = np.percentile(data2[\"Penggunaan Data (GB)\"], [25, 75])\n",
        "selisih = Q3 - Q1\n",
        "# menghitung batas bawah dan atas\n",
        "bw3 = Q1 - 1.5 * selisih\n",
        "ba3 = Q3 + 1.5 * selisih\n",
        "print(\"Penggunaan Data (GB)\")\n",
        "print(\"Q1: \", Q1, \" Q3: \", Q3)\n",
        "print(\"Selisih: \", selisih)\n",
        "print(\"batas bawah: \", bw3)\n",
        "print(\"batas atas: \", ba3, \"\\n\")\n",
        "\n",
        "# menghitung outlier pada tagihan rata-rata\n",
        "Q1, Q3 = np.percentile(data2[\"Tagihan Rata-rata\"], [25, 75])\n",
        "selisih = Q3 - Q1\n",
        "# menghitung batas bawah dan atas\n",
        "bw4 = Q1 - 1.5 * selisih\n",
        "ba4 = Q3 + 1.5 * selisih\n",
        "print(\"Tagihan rata-rata\")\n",
        "print(\"Q1: \", Q1, \" Q3: \", Q3)\n",
        "print(\"Selisih: \", selisih)\n",
        "print(\"batas bawah: \", bw4)\n",
        "print(\"batas atas: \", ba4, \"\\n\")"
      ]
    },
    {
      "cell_type": "code",
      "execution_count": 6,
      "metadata": {
        "colab": {
          "base_uri": "https://localhost:8080/",
          "height": 818
        },
        "id": "HasZlDPjUdSd",
        "outputId": "874294cf-f385-46cd-ba33-a99dee699d73"
      },
      "outputs": [
        {
          "name": "stdout",
          "output_type": "stream",
          "text": [
            "Nilai mean untuk mengganti outlier:  36 \n",
            "\n",
            "Nilai mean untuk mengganti outlier:  100 \n",
            "\n",
            "Nilai mean untuk mengganti outlier:  30 \n",
            "\n",
            "Nilai mean untuk mengganti outlier:  270000 \n",
            "\n"
          ]
        },
        {
          "data": {
            "image/png": "[encoded data removed]",
            "text/plain": [
              "<Figure size 1200x800 with 4 Axes>"
            ]
          },
          "metadata": {},
          "output_type": "display_data"
        }
      ],
      "source": [
        "# Menghitung max dari nilai Durasi Langganan (bulan) yang bukan outlier\n",
        "rerata = data2[(data2[\"Durasi Langganan (bulan)\"] >= bw1) & (data2[\"Durasi Langganan (bulan)\"] <= ba1)][\"Durasi Langganan (bulan)\"].max()\n",
        "print(\"Nilai mean untuk mengganti outlier: \", rerata, \"\\n\")\n",
        "# Mengganti outlier dengan max\n",
        "data2.loc[(data2[\"Durasi Langganan (bulan)\"] < bw1) | (data2[\"Durasi Langganan (bulan)\"] > ba1), \"Durasi Langganan (bulan)\"] = rerata\n",
        "\n",
        "# Menghitung max dari nilai Jumlah Panggilan yang bukan outlier\n",
        "rerata = data2[(data2[\"Jumlah Panggilan\"] >= bw2) & (data2[\"Jumlah Panggilan\"] <= ba2)][\"Jumlah Panggilan\"].max()\n",
        "print(\"Nilai mean untuk mengganti outlier: \", rerata, \"\\n\")\n",
        "# Mengganti outlier dengan max\n",
        "data2.loc[(data2[\"Jumlah Panggilan\"] < bw2) | (data2[\"Jumlah Panggilan\"] > ba2), \"Jumlah Panggilan\"] = rerata\n",
        "\n",
        "# Menghitung max dari nilai Penggunaan Data (GB) yang bukan outlier\n",
        "rerata = data2[(data2[\"Penggunaan Data (GB)\"] >= bw3) & (data2[\"Penggunaan Data (GB)\"] <= ba3)][\"Penggunaan Data (GB)\"].max()\n",
        "print(\"Nilai mean untuk mengganti outlier: \", rerata, \"\\n\")\n",
        "# Mengganti outlier dengan max\n",
        "data2.loc[(data2[\"Penggunaan Data (GB)\"] < bw3) | (data2[\"Penggunaan Data (GB)\"] > ba3), \"Penggunaan Data (GB)\"] = rerata\n",
        "\n",
        "# Menghitung max dari nilai Tagihan Rata-rata yang bukan outlier\n",
        "rerata = data2[(data2[\"Tagihan Rata-rata\"] >= bw4) & (data2[\"Tagihan Rata-rata\"] <= ba4)][\"Tagihan Rata-rata\"].max()\n",
        "print(\"Nilai mean untuk mengganti outlier: \", rerata, \"\\n\")\n",
        "# Mengganti outlier dengan max\n",
        "data2.loc[(data2[\"Tagihan Rata-rata\"] < bw4) | (data2[\"Tagihan Rata-rata\"] > ba4), \"Tagihan Rata-rata\"] = rerata\n",
        "\n",
        "\n",
        "# mencari outlier\n",
        "fig, axes = plt.subplots(2, 2, figsize=(12, 8))\n",
        "sns.boxplot(x=\"Durasi Langganan (bulan)\", data=data2, ax=axes[0, 0])\n",
        "sns.boxplot(x=\"Jumlah Panggilan\", data=data2, ax=axes[0, 1])\n",
        "sns.boxplot(x=\"Penggunaan Data (GB)\", data=data2, ax=axes[1, 0])\n",
        "sns.boxplot(x=\"Tagihan Rata-rata\", data=data2, ax=axes[1, 1])\n",
        "plt.show()\n",
        "# sns.boxplot(x=\"Tagihan Rata-rata\", data=data2)\n",
        "# plt.show()"
      ]
    },
    {
      "cell_type": "code",
      "execution_count": 7,
      "metadata": {
        "colab": {
          "base_uri": "https://localhost:8080/",
          "height": 523
        },
        "id": "MZEKX8brUd2_",
        "outputId": "3361dcf2-f575-4dbe-9613-8ffd4c755b17"
      },
      "outputs": [
        {
          "name": "stdout",
          "output_type": "stream",
          "text": [
            "Churn\n",
            "0    54\n",
            "1    46\n",
            "Name: count, dtype: int64\n"
          ]
        },
        {
          "data": {
            "image/png": "[encoded data removed]",
            "text/plain": [
              "<Figure size 640x480 with 1 Axes>"
            ]
          },
          "metadata": {},
          "output_type": "display_data"
        }
      ],
      "source": [
        "# visualisasi data hasil data preprocessing\n",
        "print(data2['Churn'].value_counts())\n",
        "sns.countplot(y=data2.Churn, data=data2)\n",
        "plt.xlabel('Count of each Target class')\n",
        "plt.ylabel('Churn')\n",
        "plt.show()\n"
      ]
    },
    {
      "cell_type": "code",
      "execution_count": 8,
      "metadata": {
        "colab": {
          "base_uri": "https://localhost:8080/"
        },
        "id": "3erSD_J8UQYV",
        "outputId": "9fc93503-f540-4c61-8966-59490f02d1ec"
      },
      "outputs": [
        {
          "name": "stdout",
          "output_type": "stream",
          "text": [
            "Dimensi Feature: (100, 5)\n",
            "Class: {0, 1} \n",
            "\n"
          ]
        }
      ],
      "source": [
        "from sklearn import preprocessing\n",
        "from sklearn.metrics import accuracy_score, classification_report\n",
        "from sklearn.model_selection import StratifiedKFold\n",
        "\n",
        "# pemilihan fitur dan label\n",
        "# X_before = data2.drop(['Churn'], axis=1).values\n",
        "# y = data2['Churn'].values\n",
        "X_before = data2.drop(['Churn'], axis=1)\n",
        "y = data2['Churn']\n",
        "\n",
        "# Normalisasi fitur\n",
        "X = preprocessing.normalize(X_before)\n",
        "\n",
        "\n",
        "print(f'Dimensi Feature: {X.shape}')\n",
        "print(f'Class: {set(y)}', '\\n')\n",
        "\n",
        "# buat fungsi K fold\n",
        "kf = StratifiedKFold(n_splits=10, shuffle=True, random_state=42)\n",
        "fold_indices = kf.split(X, y)\n",
        "# buat fungsi K fold\n",
        "# def kfold_indices(data, k):\n",
        "#     fold_size = len(data) // k\n",
        "#     indices = np.arange(len(data))\n",
        "#     folds = []\n",
        "#     for i in range(k):\n",
        "#         test_indices = indices[i * fold_size: (i + 1) * fold_size]\n",
        "#         train_indices = np.concatenate([indices[:i * fold_size], indices[(i + 1) * fold_size:]])\n",
        "#         folds.append((train_indices, test_indices))\n",
        "#     return folds\n",
        "\n",
        "# # Define the number of folds (K)\n",
        "# k = 10\n",
        "\n",
        "# # Get the fold indices\n",
        "# fold_indices = kfold_indices(X, k)\n"
      ]
    },
    {
      "cell_type": "code",
      "execution_count": 26,
      "metadata": {},
      "outputs": [
        {
          "name": "stdout",
          "output_type": "stream",
          "text": [
            "K-Fold Cross-Validation Scores: [0.4, 0.6, 0.3, 0.4, 0.5, 0.3, 0.4, 0.5, 0.5, 0.7]\n",
            "Mean Accuracy Tree: 0.4600000000000001 \n",
            "\n",
            "Average Classification Report:\n",
            "           precision  recall  f1-score  support\n",
            "0            0.4955    0.55    0.5163     5.40\n",
            "1            0.3817    0.35    0.3591     4.60\n",
            "accuracy     0.4600    0.46    0.4600     0.46\n"
          ]
        }
      ],
      "source": [
        "from sklearn.tree import DecisionTreeClassifier\n",
        "\n",
        "# Membuat model decision tree\n",
        "tree = DecisionTreeClassifier(random_state=45)\n",
        "\n",
        "scores = []\n",
        "classification_reports = []\n",
        "\n",
        "for train_indices, test_indices in kf.split(X, y):\n",
        "    X_train, y_train = X[train_indices], y[train_indices]\n",
        "    X_test, y_test = X[test_indices], y[test_indices]\n",
        "    \n",
        "    # Melatih model Random Forest\n",
        "    tree.fit(X_train, y_train)\n",
        "    \n",
        "    # Prediksi\n",
        "    y_pred = tree.predict(X_test)\n",
        "    \n",
        "    fold_score = accuracy_score(y_test, y_pred)\n",
        "\n",
        "    scores.append(fold_score)\n",
        "    \n",
        "    # Mendapatkan classification report untuk setiap fold\n",
        "    report = classification_report(y_test, y_pred, output_dict=True)\n",
        "    classification_reports.append(report)\n",
        "\n",
        "# Menghitung rata-rata metrik dari semua fold\n",
        "# Placeholder untuk menyimpan hasil rata-rata\n",
        "average_report = {}\n",
        "\n",
        "# Mendapatkan nama label dan metrik dari classification report pertama\n",
        "labels = [label for label in classification_reports[0].keys() if label not in ['accuracy', 'macro avg', 'weighted avg']]\n",
        "metrics = classification_reports[0][list(labels)[0]].keys()\n",
        "\n",
        "# Menghitung rata-rata setiap metrik untuk setiap label\n",
        "for label in labels:\n",
        "    average_report[label] = {}\n",
        "    for metric in metrics:\n",
        "        # Menghitung rata-rata setiap metrik untuk setiap label\n",
        "        avg_value = np.mean([report[label][metric] for report in classification_reports])\n",
        "        average_report[label][metric] = round(avg_value, 4)\n",
        "\n",
        "# Menghitung rata-rata untuk accuracy\n",
        "average_report['accuracy'] = np.mean([report['accuracy'] for report in classification_reports])\n",
        "\n",
        "mean_accuracy2 = np.mean(scores)\n",
        "print(\"K-Fold Cross-Validation Scores:\", scores)\n",
        "print(\"Mean Accuracy Tree:\", mean_accuracy2, \"\\n\")\n",
        "# Menampilkan rata-rata classification report\n",
        "df_average_report = pd.DataFrame(average_report).transpose()\n",
        "print(\"Average Classification Report:\\n\", df_average_report)"
      ]
    },
    {
      "cell_type": "code",
      "execution_count": 27,
      "metadata": {
        "colab": {
          "base_uri": "https://localhost:8080/"
        },
        "id": "0n-Z7othUkPe",
        "outputId": "b33f60f6-9eac-4406-a0ed-dafe2993aea4"
      },
      "outputs": [
        {
          "name": "stdout",
          "output_type": "stream",
          "text": [
            "K-Fold Cross-Validation Scores: [0.4, 0.7, 0.6, 0.7, 0.5, 0.5, 0.5, 0.7, 0.5, 0.5]\n",
            "Mean Accuracy KNN: 0.5599999999999999 \n",
            "\n",
            "Average Classification Report:\n",
            "           precision  recall  f1-score  support\n",
            "0            0.6651  0.5567    0.5525     5.40\n",
            "1            0.4753  0.5650    0.4913     4.60\n",
            "accuracy     0.5600  0.5600    0.5600     0.56\n"
          ]
        }
      ],
      "source": [
        "from sklearn.neighbors import KNeighborsClassifier\n",
        "\n",
        "# Membuat model KNN\n",
        "knn = KNeighborsClassifier(n_neighbors=3)\n",
        "# inisialisasi untuk menyimpan evaluation scores\n",
        "scores1 = []\n",
        "classification_reports = []\n",
        "\n",
        "for train_indices, test_indices in kf.split(X, y):\n",
        "    X_train, y_train = X[train_indices], y[train_indices]\n",
        "    X_test, y_test = X[test_indices], y[test_indices]\n",
        "    \n",
        "    # Melatih model Random Forest\n",
        "    knn.fit(X_train, y_train)\n",
        "    \n",
        "    # Prediksi\n",
        "    y_pred = knn.predict(X_test)\n",
        "    \n",
        "    fold_score = accuracy_score(y_test, y_pred)\n",
        "\n",
        "    scores1.append(fold_score)\n",
        "    \n",
        "    # Mendapatkan classification report untuk setiap fold\n",
        "    report = classification_report(y_test, y_pred, output_dict=True)\n",
        "    classification_reports.append(report)\n",
        "\n",
        "# Menghitung rata-rata metrik dari semua fold\n",
        "# Placeholder untuk menyimpan hasil rata-rata\n",
        "average_report = {}\n",
        "\n",
        "# Mendapatkan nama label dan metrik dari classification report pertama\n",
        "labels = [label for label in classification_reports[0].keys() if label not in ['accuracy', 'macro avg', 'weighted avg']]\n",
        "metrics = classification_reports[0][list(labels)[0]].keys()\n",
        "\n",
        "# Menghitung rata-rata setiap metrik untuk setiap label\n",
        "for label in labels:\n",
        "    average_report[label] = {}\n",
        "    for metric in metrics:\n",
        "        # Menghitung rata-rata setiap metrik untuk setiap label\n",
        "        avg_value = np.mean([report[label][metric] for report in classification_reports])\n",
        "        average_report[label][metric] = round(avg_value, 4)\n",
        "\n",
        "# Menghitung rata-rata untuk accuracy\n",
        "average_report['accuracy'] = np.mean([report['accuracy'] for report in classification_reports])\n",
        "\n",
        "mean_accuracy2 = np.mean(scores1)\n",
        "print(\"K-Fold Cross-Validation Scores:\", scores1)\n",
        "print(\"Mean Accuracy KNN:\", mean_accuracy2, \"\\n\")\n",
        "# Menampilkan rata-rata classification report\n",
        "df_average_report = pd.DataFrame(average_report).transpose()\n",
        "print(\"Average Classification Report:\\n\", df_average_report)"
      ]
    },
    {
      "cell_type": "code",
      "execution_count": 28,
      "metadata": {
        "colab": {
          "base_uri": "https://localhost:8080/"
        },
        "id": "34mxJ75ZUpjO",
        "outputId": "3205c0d8-15bd-4ea6-ce5b-54b2455befb4"
      },
      "outputs": [
        {
          "name": "stdout",
          "output_type": "stream",
          "text": [
            "K-Fold Cross-Validation Scores: [0.3, 0.6, 0.6, 0.7, 0.4, 0.4, 0.4, 0.5, 0.7, 0.8]\n",
            "Mean Accuracy RF: 0.5399999999999999 \n",
            "\n",
            "Average Classification Report:\n",
            "           precision  recall  f1-score  support\n",
            "0            0.5955  0.6067    0.5798     5.40\n",
            "1            0.5192  0.4600    0.4669     4.60\n",
            "accuracy     0.5400  0.5400    0.5400     0.54\n"
          ]
        }
      ],
      "source": [
        "#random forest\n",
        "from sklearn.ensemble import RandomForestClassifier\n",
        "\n",
        "# Membuat model RF\n",
        "rf = RandomForestClassifier(random_state=45)\n",
        "\n",
        "scores2 = []\n",
        "classification_reports = []\n",
        "\n",
        "for train_indices, test_indices in kf.split(X, y):\n",
        "    X_train, y_train = X[train_indices], y[train_indices]\n",
        "    X_test, y_test = X[test_indices], y[test_indices]\n",
        "    \n",
        "    # Melatih model Random Forest\n",
        "    rf.fit(X_train, y_train)\n",
        "    \n",
        "    # Prediksi\n",
        "    y_pred = rf.predict(X_test)\n",
        "    \n",
        "    fold_score = accuracy_score(y_test, y_pred)\n",
        "\n",
        "    scores2.append(fold_score)\n",
        "    \n",
        "    # Mendapatkan classification report untuk setiap fold\n",
        "    report = classification_report(y_test, y_pred, output_dict=True)\n",
        "    classification_reports.append(report)\n",
        "\n",
        "# Menghitung rata-rata metrik dari semua fold\n",
        "# Placeholder untuk menyimpan hasil rata-rata\n",
        "average_report = {}\n",
        "\n",
        "# Mendapatkan nama label dan metrik dari classification report pertama\n",
        "labels = [label for label in classification_reports[0].keys() if label not in ['accuracy', 'macro avg', 'weighted avg']]\n",
        "metrics = classification_reports[0][list(labels)[0]].keys()\n",
        "\n",
        "# Menghitung rata-rata setiap metrik untuk setiap label\n",
        "for label in labels:\n",
        "    average_report[label] = {}\n",
        "    for metric in metrics:\n",
        "        # Menghitung rata-rata setiap metrik untuk setiap label\n",
        "        avg_value = np.mean([report[label][metric] for report in classification_reports])\n",
        "        average_report[label][metric] = round(avg_value, 4)\n",
        "\n",
        "# Menghitung rata-rata untuk accuracy\n",
        "average_report['accuracy'] = np.mean([report['accuracy'] for report in classification_reports])\n",
        "\n",
        "mean_accuracy2 = np.mean(scores2)\n",
        "print(\"K-Fold Cross-Validation Scores:\", scores2)\n",
        "print(\"Mean Accuracy RF:\", mean_accuracy2, \"\\n\")\n",
        "# Menampilkan rata-rata classification report\n",
        "df_average_report = pd.DataFrame(average_report).transpose()\n",
        "print(\"Average Classification Report:\\n\", df_average_report)"
      ]
    },
    {
      "cell_type": "code",
      "execution_count": 29,
      "metadata": {
        "colab": {
          "base_uri": "https://localhost:8080/",
          "height": 718
        },
        "id": "8pyNPAZAUrx_",
        "outputId": "440beec4-2180-49c3-a906-591c820f1631"
      },
      "outputs": [
        {
          "data": {
            "image/png": "[encoded data removed]",
            "text/plain": [
              "<Figure size 1000x800 with 1 Axes>"
            ]
          },
          "metadata": {},
          "output_type": "display_data"
        }
      ],
      "source": [
        "from sklearn.metrics import roc_curve, roc_auc_score\n",
        "\n",
        "# Inisialisasi model\n",
        "models = {\n",
        "    'Desicion Tree': tree,\n",
        "    'KNN': knn,\n",
        "    'Random Forest': rf,\n",
        "}\n",
        "\n",
        "# Latih dan evaluasi model\n",
        "plt.figure(figsize=(10, 8))\n",
        "\n",
        "for name, model in models.items():\n",
        "  scores = []\n",
        "\n",
        "  # Iterate through each fold\n",
        "  for train_indices, test_indices in kf.split(X, y):\n",
        "      X_train, y_train = X[train_indices], y[train_indices]\n",
        "      X_test, y_test = X[test_indices], y[test_indices]\n",
        "\n",
        "      # melatih model\n",
        "      model.fit(X_train, y_train)\n",
        "      # buat prediksi\n",
        "      y_prediksi = model.predict_proba(X_test)[:, 1]\n",
        "      # Calculate accuracy for each fold\n",
        "      fold_score = accuracy_score(y_test, model.predict(X_test))\n",
        "      scores.append(fold_score)\n",
        "\n",
        "  # Hitung ROC curve\n",
        "  fpr, tpr, _ = roc_curve(y_test, y_prediksi)\n",
        "  # Hitung AUC\n",
        "  roc_auc = roc_auc_score(y_test, y_prediksi)\n",
        "  # Plot ROC curve\n",
        "  plt.plot(fpr, tpr, label=f'{name} (AUC = {roc_auc:.2f})')\n",
        "\n",
        "plt.plot([0, 1], [0, 1], color='navy', linestyle='--')\n",
        "plt.xlabel('False Positive Rate')\n",
        "plt.ylabel('True Positive Rate')\n",
        "plt.title('Receiver Operating Characteristic (ROC)')\n",
        "plt.legend(loc='lower right')\n",
        "plt.show()\n"
      ]
    },
    {
      "cell_type": "code",
      "execution_count": 30,
      "metadata": {
        "colab": {
          "base_uri": "https://localhost:8080/"
        },
        "id": "rfGMueudQ02S",
        "outputId": "245b9d9a-00ce-4853-a217-3f5b5a5503bd"
      },
      "outputs": [
        {
          "name": "stdout",
          "output_type": "stream",
          "text": [
            "Pelanggan diprediksi churn.\n",
            "Probabilitas tidak churn:  0.28\n",
            "Probabilitas churn: 0.72\n"
          ]
        }
      ],
      "source": [
        "new_data_before = [[23, 17, 5, 60000,0]]\n",
        "new_data = preprocessing.normalize(new_data_before)\n",
        "# Prediksi churn (0 = tidak churn, 1 = churn)\n",
        "prediction = rf.predict(new_data)\n",
        "\n",
        "# Hasil prediksi\n",
        "if prediction[0] == 1:\n",
        "    print(\"Pelanggan diprediksi churn.\")\n",
        "else:\n",
        "    print(\"Pelanggan diprediksi tidak churn.\")\n",
        "\n",
        "# Prediksi probabilitas churn\n",
        "prediction_proba = rf.predict_proba(new_data)\n",
        "\n",
        "# Print probabilitas churn\n",
        "print(f\"Probabilitas tidak churn:  {prediction_proba[0][0]}\")\n",
        "print(f\"Probabilitas churn: {prediction_proba[0][1]}\")"
      ]
    },
    {
      "cell_type": "code",
      "execution_count": 31,
      "metadata": {},
      "outputs": [
        {
          "name": "stdout",
          "output_type": "stream",
          "text": [
            "K-Fold Cross-Validation Scores: [0.3, 0.6, 0.6, 0.7, 0.4, 0.4, 0.4, 0.5, 0.7, 0.8]\n",
            "Mean Accuracy RF: 0.5399999999999999\n"
          ]
        },
        {
          "data": {
            "application/vnd.plotly.v1+json": {
              "config": {
                "plotlyServerURL": "https://plot.ly"
              },
              "data": [
                {
                  "marker": {
                    "color": [
                      0.285282523641372,
                      0.30431668238584125,
                      0.2424773868992148,
                      0.057061553895827274,
                      0.11086185317774466
                    ],
                    "colorscale": [
                      [
                        0,
                        "rgb(255,255,217)"
                      ],
                      [
                        0.125,
                        "rgb(237,248,177)"
                      ],
                      [
                        0.25,
                        "rgb(199,233,180)"
                      ],
                      [
                        0.375,
                        "rgb(127,205,187)"
                      ],
                      [
                        0.5,
                        "rgb(65,182,196)"
                      ],
                      [
                        0.625,
                        "rgb(29,145,192)"
                      ],
                      [
                        0.75,
                        "rgb(34,94,168)"
                      ],
                      [
                        0.875,
                        "rgb(37,52,148)"
                      ],
                      [
                        1,
                        "rgb(8,29,88)"
                      ]
                    ],
                    "showscale": true,
                    "size": 10
                  },
                  "mode": "markers+text",
                  "text": [
                    "0",
                    "1",
                    "2",
                    "3",
                    "4"
                  ],
                  "textposition": "bottom center",
                  "type": "scatter",
                  "x": [
                    0.2610288134111417,
                    0.08832510269056781,
                    0.9755297871964058,
                    0.20107296162576316,
                    0.8007282140133074
                  ],
                  "y": [
                    0.16918185997927526,
                    0.42440775521092133,
                    0.031003098329115075,
                    0.12730573847245574,
                    0.39756704227474005
                  ]
                }
              ],
              "layout": {
                "template": {
                  "data": {
                    "bar": [
                      {
                        "error_x": {
                          "color": "#2a3f5f"
                        },
                        "error_y": {
                          "color": "#2a3f5f"
                        },
                        "marker": {
                          "line": {
                            "color": "#E5ECF6",
                            "width": 0.5
                          },
                          "pattern": {
                            "fillmode": "overlay",
                            "size": 10,
                            "solidity": 0.2
                          }
                        },
                        "type": "bar"
                      }
                    ],
                    "barpolar": [
                      {
                        "marker": {
                          "line": {
                            "color": "#E5ECF6",
                            "width": 0.5
                          },
                          "pattern": {
                            "fillmode": "overlay",
                            "size": 10,
                            "solidity": 0.2
                          }
                        },
                        "type": "barpolar"
                      }
                    ],
                    "carpet": [
                      {
                        "aaxis": {
                          "endlinecolor": "#2a3f5f",
                          "gridcolor": "white",
                          "linecolor": "white",
                          "minorgridcolor": "white",
                          "startlinecolor": "#2a3f5f"
                        },
                        "baxis": {
                          "endlinecolor": "#2a3f5f",
                          "gridcolor": "white",
                          "linecolor": "white",
                          "minorgridcolor": "white",
                          "startlinecolor": "#2a3f5f"
                        },
                        "type": "carpet"
                      }
                    ],
                    "choropleth": [
                      {
                        "colorbar": {
                          "outlinewidth": 0,
                          "ticks": ""
                        },
                        "type": "choropleth"
                      }
                    ],
                    "contour": [
                      {
                        "colorbar": {
                          "outlinewidth": 0,
                          "ticks": ""
                        },
                        "colorscale": [
                          [
                            0,
                            "#0d0887"
                          ],
                          [
                            0.1111111111111111,
                            "#46039f"
                          ],
                          [
                            0.2222222222222222,
                            "#7201a8"
                          ],
                          [
                            0.3333333333333333,
                            "#9c179e"
                          ],
                          [
                            0.4444444444444444,
                            "#bd3786"
                          ],
                          [
                            0.5555555555555556,
                            "#d8576b"
                          ],
                          [
                            0.6666666666666666,
                            "#ed7953"
                          ],
                          [
                            0.7777777777777778,
                            "#fb9f3a"
                          ],
                          [
                            0.8888888888888888,
                            "#fdca26"
                          ],
                          [
                            1,
                            "#f0f921"
                          ]
                        ],
                        "type": "contour"
                      }
                    ],
                    "contourcarpet": [
                      {
                        "colorbar": {
                          "outlinewidth": 0,
                          "ticks": ""
                        },
                        "type": "contourcarpet"
                      }
                    ],
                    "heatmap": [
                      {
                        "colorbar": {
                          "outlinewidth": 0,
                          "ticks": ""
                        },
                        "colorscale": [
                          [
                            0,
                            "#0d0887"
                          ],
                          [
                            0.1111111111111111,
                            "#46039f"
                          ],
                          [
                            0.2222222222222222,
                            "#7201a8"
                          ],
                          [
                            0.3333333333333333,
                            "#9c179e"
                          ],
                          [
                            0.4444444444444444,
                            "#bd3786"
                          ],
                          [
                            0.5555555555555556,
                            "#d8576b"
                          ],
                          [
                            0.6666666666666666,
                            "#ed7953"
                          ],
                          [
                            0.7777777777777778,
                            "#fb9f3a"
                          ],
                          [
                            0.8888888888888888,
                            "#fdca26"
                          ],
                          [
                            1,
                            "#f0f921"
                          ]
                        ],
                        "type": "heatmap"
                      }
                    ],
                    "heatmapgl": [
                      {
                        "colorbar": {
                          "outlinewidth": 0,
                          "ticks": ""
                        },
                        "colorscale": [
                          [
                            0,
                            "#0d0887"
                          ],
                          [
                            0.1111111111111111,
                            "#46039f"
                          ],
                          [
                            0.2222222222222222,
                            "#7201a8"
                          ],
                          [
                            0.3333333333333333,
                            "#9c179e"
                          ],
                          [
                            0.4444444444444444,
                            "#bd3786"
                          ],
                          [
                            0.5555555555555556,
                            "#d8576b"
                          ],
                          [
                            0.6666666666666666,
                            "#ed7953"
                          ],
                          [
                            0.7777777777777778,
                            "#fb9f3a"
                          ],
                          [
                            0.8888888888888888,
                            "#fdca26"
                          ],
                          [
                            1,
                            "#f0f921"
                          ]
                        ],
                        "type": "heatmapgl"
                      }
                    ],
                    "histogram": [
                      {
                        "marker": {
                          "pattern": {
                            "fillmode": "overlay",
                            "size": 10,
                            "solidity": 0.2
                          }
                        },
                        "type": "histogram"
                      }
                    ],
                    "histogram2d": [
                      {
                        "colorbar": {
                          "outlinewidth": 0,
                          "ticks": ""
                        },
                        "colorscale": [
                          [
                            0,
                            "#0d0887"
                          ],
                          [
                            0.1111111111111111,
                            "#46039f"
                          ],
                          [
                            0.2222222222222222,
                            "#7201a8"
                          ],
                          [
                            0.3333333333333333,
                            "#9c179e"
                          ],
                          [
                            0.4444444444444444,
                            "#bd3786"
                          ],
                          [
                            0.5555555555555556,
                            "#d8576b"
                          ],
                          [
                            0.6666666666666666,
                            "#ed7953"
                          ],
                          [
                            0.7777777777777778,
                            "#fb9f3a"
                          ],
                          [
                            0.8888888888888888,
                            "#fdca26"
                          ],
                          [
                            1,
                            "#f0f921"
                          ]
                        ],
                        "type": "histogram2d"
                      }
                    ],
                    "histogram2dcontour": [
                      {
                        "colorbar": {
                          "outlinewidth": 0,
                          "ticks": ""
                        },
                        "colorscale": [
                          [
                            0,
                            "#0d0887"
                          ],
                          [
                            0.1111111111111111,
                            "#46039f"
                          ],
                          [
                            0.2222222222222222,
                            "#7201a8"
                          ],
                          [
                            0.3333333333333333,
                            "#9c179e"
                          ],
                          [
                            0.4444444444444444,
                            "#bd3786"
                          ],
                          [
                            0.5555555555555556,
                            "#d8576b"
                          ],
                          [
                            0.6666666666666666,
                            "#ed7953"
                          ],
                          [
                            0.7777777777777778,
                            "#fb9f3a"
                          ],
                          [
                            0.8888888888888888,
                            "#fdca26"
                          ],
                          [
                            1,
                            "#f0f921"
                          ]
                        ],
                        "type": "histogram2dcontour"
                      }
                    ],
                    "mesh3d": [
                      {
                        "colorbar": {
                          "outlinewidth": 0,
                          "ticks": ""
                        },
                        "type": "mesh3d"
                      }
                    ],
                    "parcoords": [
                      {
                        "line": {
                          "colorbar": {
                            "outlinewidth": 0,
                            "ticks": ""
                          }
                        },
                        "type": "parcoords"
                      }
                    ],
                    "pie": [
                      {
                        "automargin": true,
                        "type": "pie"
                      }
                    ],
                    "scatter": [
                      {
                        "fillpattern": {
                          "fillmode": "overlay",
                          "size": 10,
                          "solidity": 0.2
                        },
                        "type": "scatter"
                      }
                    ],
                    "scatter3d": [
                      {
                        "line": {
                          "colorbar": {
                            "outlinewidth": 0,
                            "ticks": ""
                          }
                        },
                        "marker": {
                          "colorbar": {
                            "outlinewidth": 0,
                            "ticks": ""
                          }
                        },
                        "type": "scatter3d"
                      }
                    ],
                    "scattercarpet": [
                      {
                        "marker": {
                          "colorbar": {
                            "outlinewidth": 0,
                            "ticks": ""
                          }
                        },
                        "type": "scattercarpet"
                      }
                    ],
                    "scattergeo": [
                      {
                        "marker": {
                          "colorbar": {
                            "outlinewidth": 0,
                            "ticks": ""
                          }
                        },
                        "type": "scattergeo"
                      }
                    ],
                    "scattergl": [
                      {
                        "marker": {
                          "colorbar": {
                            "outlinewidth": 0,
                            "ticks": ""
                          }
                        },
                        "type": "scattergl"
                      }
                    ],
                    "scattermapbox": [
                      {
                        "marker": {
                          "colorbar": {
                            "outlinewidth": 0,
                            "ticks": ""
                          }
                        },
                        "type": "scattermapbox"
                      }
                    ],
                    "scatterpolar": [
                      {
                        "marker": {
                          "colorbar": {
                            "outlinewidth": 0,
                            "ticks": ""
                          }
                        },
                        "type": "scatterpolar"
                      }
                    ],
                    "scatterpolargl": [
                      {
                        "marker": {
                          "colorbar": {
                            "outlinewidth": 0,
                            "ticks": ""
                          }
                        },
                        "type": "scatterpolargl"
                      }
                    ],
                    "scatterternary": [
                      {
                        "marker": {
                          "colorbar": {
                            "outlinewidth": 0,
                            "ticks": ""
                          }
                        },
                        "type": "scatterternary"
                      }
                    ],
                    "surface": [
                      {
                        "colorbar": {
                          "outlinewidth": 0,
                          "ticks": ""
                        },
                        "colorscale": [
                          [
                            0,
                            "#0d0887"
                          ],
                          [
                            0.1111111111111111,
                            "#46039f"
                          ],
                          [
                            0.2222222222222222,
                            "#7201a8"
                          ],
                          [
                            0.3333333333333333,
                            "#9c179e"
                          ],
                          [
                            0.4444444444444444,
                            "#bd3786"
                          ],
                          [
                            0.5555555555555556,
                            "#d8576b"
                          ],
                          [
                            0.6666666666666666,
                            "#ed7953"
                          ],
                          [
                            0.7777777777777778,
                            "#fb9f3a"
                          ],
                          [
                            0.8888888888888888,
                            "#fdca26"
                          ],
                          [
                            1,
                            "#f0f921"
                          ]
                        ],
                        "type": "surface"
                      }
                    ],
                    "table": [
                      {
                        "cells": {
                          "fill": {
                            "color": "#EBF0F8"
                          },
                          "line": {
                            "color": "white"
                          }
                        },
                        "header": {
                          "fill": {
                            "color": "#C8D4E3"
                          },
                          "line": {
                            "color": "white"
                          }
                        },
                        "type": "table"
                      }
                    ]
                  },
                  "layout": {
                    "annotationdefaults": {
                      "arrowcolor": "#2a3f5f",
                      "arrowhead": 0,
                      "arrowwidth": 1
                    },
                    "autotypenumbers": "strict",
                    "coloraxis": {
                      "colorbar": {
                        "outlinewidth": 0,
                        "ticks": ""
                      }
                    },
                    "colorscale": {
                      "diverging": [
                        [
                          0,
                          "#8e0152"
                        ],
                        [
                          0.1,
                          "#c51b7d"
                        ],
                        [
                          0.2,
                          "#de77ae"
                        ],
                        [
                          0.3,
                          "#f1b6da"
                        ],
                        [
                          0.4,
                          "#fde0ef"
                        ],
                        [
                          0.5,
                          "#f7f7f7"
                        ],
                        [
                          0.6,
                          "#e6f5d0"
                        ],
                        [
                          0.7,
                          "#b8e186"
                        ],
                        [
                          0.8,
                          "#7fbc41"
                        ],
                        [
                          0.9,
                          "#4d9221"
                        ],
                        [
                          1,
                          "#276419"
                        ]
                      ],
                      "sequential": [
                        [
                          0,
                          "#0d0887"
                        ],
                        [
                          0.1111111111111111,
                          "#46039f"
                        ],
                        [
                          0.2222222222222222,
                          "#7201a8"
                        ],
                        [
                          0.3333333333333333,
                          "#9c179e"
                        ],
                        [
                          0.4444444444444444,
                          "#bd3786"
                        ],
                        [
                          0.5555555555555556,
                          "#d8576b"
                        ],
                        [
                          0.6666666666666666,
                          "#ed7953"
                        ],
                        [
                          0.7777777777777778,
                          "#fb9f3a"
                        ],
                        [
                          0.8888888888888888,
                          "#fdca26"
                        ],
                        [
                          1,
                          "#f0f921"
                        ]
                      ],
                      "sequentialminus": [
                        [
                          0,
                          "#0d0887"
                        ],
                        [
                          0.1111111111111111,
                          "#46039f"
                        ],
                        [
                          0.2222222222222222,
                          "#7201a8"
                        ],
                        [
                          0.3333333333333333,
                          "#9c179e"
                        ],
                        [
                          0.4444444444444444,
                          "#bd3786"
                        ],
                        [
                          0.5555555555555556,
                          "#d8576b"
                        ],
                        [
                          0.6666666666666666,
                          "#ed7953"
                        ],
                        [
                          0.7777777777777778,
                          "#fb9f3a"
                        ],
                        [
                          0.8888888888888888,
                          "#fdca26"
                        ],
                        [
                          1,
                          "#f0f921"
                        ]
                      ]
                    },
                    "colorway": [
                      "#636efa",
                      "#EF553B",
                      "#00cc96",
                      "#ab63fa",
                      "#FFA15A",
                      "#19d3f3",
                      "#FF6692",
                      "#B6E880",
                      "#FF97FF",
                      "#FECB52"
                    ],
                    "font": {
                      "color": "#2a3f5f"
                    },
                    "geo": {
                      "bgcolor": "white",
                      "lakecolor": "white",
                      "landcolor": "#E5ECF6",
                      "showlakes": true,
                      "showland": true,
                      "subunitcolor": "white"
                    },
                    "hoverlabel": {
                      "align": "left"
                    },
                    "hovermode": "closest",
                    "mapbox": {
                      "style": "light"
                    },
                    "paper_bgcolor": "white",
                    "plot_bgcolor": "#E5ECF6",
                    "polar": {
                      "angularaxis": {
                        "gridcolor": "white",
                        "linecolor": "white",
                        "ticks": ""
                      },
                      "bgcolor": "#E5ECF6",
                      "radialaxis": {
                        "gridcolor": "white",
                        "linecolor": "white",
                        "ticks": ""
                      }
                    },
                    "scene": {
                      "xaxis": {
                        "backgroundcolor": "#E5ECF6",
                        "gridcolor": "white",
                        "gridwidth": 2,
                        "linecolor": "white",
                        "showbackground": true,
                        "ticks": "",
                        "zerolinecolor": "white"
                      },
                      "yaxis": {
                        "backgroundcolor": "#E5ECF6",
                        "gridcolor": "white",
                        "gridwidth": 2,
                        "linecolor": "white",
                        "showbackground": true,
                        "ticks": "",
                        "zerolinecolor": "white"
                      },
                      "zaxis": {
                        "backgroundcolor": "#E5ECF6",
                        "gridcolor": "white",
                        "gridwidth": 2,
                        "linecolor": "white",
                        "showbackground": true,
                        "ticks": "",
                        "zerolinecolor": "white"
                      }
                    },
                    "shapedefaults": {
                      "line": {
                        "color": "#2a3f5f"
                      }
                    },
                    "ternary": {
                      "aaxis": {
                        "gridcolor": "white",
                        "linecolor": "white",
                        "ticks": ""
                      },
                      "baxis": {
                        "gridcolor": "white",
                        "linecolor": "white",
                        "ticks": ""
                      },
                      "bgcolor": "#E5ECF6",
                      "caxis": {
                        "gridcolor": "white",
                        "linecolor": "white",
                        "ticks": ""
                      }
                    },
                    "title": {
                      "x": 0.05
                    },
                    "xaxis": {
                      "automargin": true,
                      "gridcolor": "white",
                      "linecolor": "white",
                      "ticks": "",
                      "title": {
                        "standoff": 15
                      },
                      "zerolinecolor": "white",
                      "zerolinewidth": 2
                    },
                    "yaxis": {
                      "automargin": true,
                      "gridcolor": "white",
                      "linecolor": "white",
                      "ticks": "",
                      "title": {
                        "standoff": 15
                      },
                      "zerolinecolor": "white",
                      "zerolinewidth": 2
                    }
                  }
                },
                "title": {
                  "text": "Random Forest Node Weights Visualization"
                },
                "xaxis": {
                  "autorange": true,
                  "showgrid": false,
                  "showline": false,
                  "showticklabels": false,
                  "ticks": "",
                  "zeroline": false
                },
                "yaxis": {
                  "autorange": true,
                  "showgrid": false,
                  "showline": false,
                  "showticklabels": false,
                  "ticks": "",
                  "zeroline": false
                }
              }
            }
          },
          "metadata": {},
          "output_type": "display_data"
        }
      ],
      "source": [
        "# Membuat model RandomForest\n",
        "rf = RandomForestClassifier(random_state=45)\n",
        "\n",
        "scores2 = []\n",
        "classification_reports = []\n",
        "node_weights = []\n",
        "\n",
        "for train_indices, test_indices in kf.split(X, y):\n",
        "    X_train, y_train = X[train_indices], y[train_indices]\n",
        "    X_test, y_test = X[test_indices], y[test_indices]\n",
        "\n",
        "    # Fit model\n",
        "    rf.fit(X_train, y_train)\n",
        "\n",
        "    # Prediksi\n",
        "    y_pred = rf.predict(X_test)\n",
        "\n",
        "    # Simpan akurasi dari fold saat ini\n",
        "    fold_score = accuracy_score(y_test, y_pred)\n",
        "    scores2.append(fold_score)\n",
        "\n",
        "    # Simpan classification report\n",
        "    class_report = classification_report(y_test, y_pred, output_dict=True)\n",
        "    classification_reports.append(class_report)\n",
        "    \n",
        "    # Simpan bobot node untuk visualisasi\n",
        "    node_weights.append(rf.feature_importances_)\n",
        "\n",
        "# Mean accuracy\n",
        "mean_accuracy2 = np.mean(scores2)\n",
        "print(\"K-Fold Cross-Validation Scores:\", scores2)\n",
        "print(\"Mean Accuracy RF:\", mean_accuracy2)\n",
        "\n",
        "# Kode 2: Visualisasi dengan Plotly\n",
        "import plotly.graph_objs as go\n",
        "import plotly.io as pio\n",
        "import nbformat\n",
        "\n",
        "# Mengambil bobot rata-rata dari node untuk visualisasi\n",
        "avg_node_weight = np.mean(node_weights, axis=0)\n",
        "tree_num = len(avg_node_weight)\n",
        "\n",
        "# Koordinat dummy untuk visualisasi (dapat disesuaikan)\n",
        "tree_x = np.random.rand(tree_num)\n",
        "tree_y = np.random.rand(tree_num)\n",
        "\n",
        "# Create a trace untuk scatter plot\n",
        "node_trace = go.Scatter(\n",
        "    x = tree_x,\n",
        "    y = tree_y,\n",
        "    mode = 'markers+text',\n",
        "    text = list(range(tree_num)),\n",
        "    textposition = 'bottom center',\n",
        "    marker = {\n",
        "        'colorscale': 'YlGnBu',\n",
        "        'color': avg_node_weight,\n",
        "        'showscale': True,\n",
        "        'size': 10\n",
        "    }\n",
        ")\n",
        "\n",
        "# Layout untuk plot\n",
        "layout = go.Layout(\n",
        "    title=\"Random Forest Node Weights Visualization\",\n",
        "    xaxis=dict(\n",
        "        autorange=True,\n",
        "        showgrid=False,\n",
        "        zeroline=False,\n",
        "        showline=False,\n",
        "        ticks='',\n",
        "        showticklabels=False\n",
        "    ),\n",
        "    yaxis=dict(\n",
        "        autorange=True,\n",
        "        showgrid=False,\n",
        "        zeroline=False,\n",
        "        showline=False,\n",
        "        ticks='',\n",
        "        showticklabels=False\n",
        "    )\n",
        ")\n",
        "\n",
        "# Gabungkan data dan layout\n",
        "data = [node_trace]\n",
        "fig = go.Figure(data=data, layout=layout)\n",
        "\n",
        "# Plot dan simpan dalam notebook\n",
        "pio.show(fig, filename='node_weight-scatter')"
      ]
    },
    {
      "cell_type": "code",
      "execution_count": 16,
      "metadata": {},
      "outputs": [],
      "source": [
        "import pickle\n",
        "pickle.dump(rf, open(\"model2.pkl\",\"wb\"))"
      ]
    }
  ],
  "metadata": {
    "colab": {
      "provenance": []
    },
    "kernelspec": {
      "display_name": "Python 3",
      "name": "python3"
    },
    "language_info": {
      "codemirror_mode": {
        "name": "ipython",
        "version": 3
      },
      "file_extension": ".py",
      "mimetype": "text/x-python",
      "name": "python",
      "nbconvert_exporter": "python",
      "pygments_lexer": "ipython3",
      "version": "3.11.9"
    }
  },
  "nbformat": 4,
  "nbformat_minor": 0
}
